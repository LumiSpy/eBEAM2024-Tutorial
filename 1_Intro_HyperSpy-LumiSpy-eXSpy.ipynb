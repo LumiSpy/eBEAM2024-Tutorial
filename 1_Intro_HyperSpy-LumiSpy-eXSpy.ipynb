{
 "cells": [
  {
   "cell_type": "markdown",
   "metadata": {},
   "source": [
    "# Introduction to *HyperSpy*, *LumiSpy* and *eXSpy*\n",
    "\n",
    "> **Spectroscopy Data Analysis in Python Using [HyperSpy](https://hyperspy.org)**\n",
    "\n",
    "Tutorial for the **eBEAM2024 school on nano-optics with free electrons**\n",
    "\n",
    "> Aussois, September 1-13, 2024\n",
    "\n",
    "**Table of Contents:**\n",
    "\n",
    "- [Import packages](#Import-packages)\n",
    "- [Loading files](#Loading-files)\n",
    "- [Data structure / Axes handling](#Data-structure-/-Axes-handling)\n",
    "- [Metadata](#Metadata)\n",
    "- [Plot / Explore](#Plot-/-Explore)\n",
    "- [Indexing](#Indexing)\n",
    "- [Correction of spectral defects](#Correction-of-spectral-defects)\n",
    "- [Basic model fitting](#Basic-model-fitting)\n",
    "- [Peak identification / Centroid / Peak width](#Peak-identification-/-Centroid-/-Peak-width)"
   ]
  },
  {
   "cell_type": "markdown",
   "metadata": {},
   "source": [
    "## Import packages\n",
    "\n",
    "We import the public functions (api = application programming interface) of `HyperSpy`. Object oriented functions of `LumiSpy` and `eXSpy` will be directly available if installed.\n",
    "\n",
    "Finally, `numpy` provides numerical operations on arrays that we will use:"
   ]
  },
  {
   "cell_type": "code",
   "execution_count": null,
   "metadata": {},
   "outputs": [],
   "source": [
    "# Use '%matplotlib widget' in JupterLab and '%matplotlib notebook' in JupyterNotebook for interactive inline functionality (e.g. on binder)\n",
    "# For pop-up window plots on your local computer, use '%matplotlib tk' or '%matplotlib qt' instead\n",
    "%matplotlib widget\n",
    "\n",
    "import hyperspy.api as hs\n",
    "import numpy as np\n",
    "\n",
    "# Plot multiple inline figures side-by-side horizontally \n",
    "hs.preferences.Plot.widget_plot_style = 'horizontal'"
   ]
  },
  {
   "cell_type": "markdown",
   "metadata": {},
   "source": [
    "**LumiSpy** and **eXSpy** provide dedicated signal classes.\n",
    "\n",
    "We can check the **available signal types**:"
   ]
  },
  {
   "cell_type": "code",
   "execution_count": null,
   "metadata": {},
   "outputs": [],
   "source": [
    "hs.print_known_signal_types()"
   ]
  },
  {
   "cell_type": "markdown",
   "metadata": {},
   "source": [
    "## Loading files\n",
    "\n",
    "For saving analyses, HyperSpy has its own hdf5-based data format `.hspy`.\n",
    "\n",
    "**RosettaSciIO** provides support for a wide range of microscopy (and spectroscopy) related **data file types**!\n",
    "\n",
    "We will load two files that we will use during the demo. A preprocessed dataset saved in the `hspy` format and one map in the `dm4` (Gatan) format:\n",
    "\n",
    "*We assume the file location as in the demo repository, if you downloaded the notebook and the data files individually, you might need to adapt the path.*"
   ]
  },
  {
   "cell_type": "code",
   "execution_count": null,
   "metadata": {
    "scrolled": true
   },
   "outputs": [],
   "source": [
    "cl1 = hs.load(\"data/01_demo.hspy\")\n",
    "cl2 = hs.load(\"data/asymmetric-peak_map.dm4\")"
   ]
  },
  {
   "cell_type": "markdown",
   "metadata": {},
   "source": [
    "To see **parameters** that the function takes, in Jupyter, you can **display the docstring** by using a `?`:"
   ]
  },
  {
   "cell_type": "code",
   "execution_count": null,
   "metadata": {
    "tags": []
   },
   "outputs": [],
   "source": [
    "hs.load?"
   ]
  },
  {
   "cell_type": "markdown",
   "metadata": {},
   "source": [
    "## Data structure / Axes handling\n",
    "\n",
    "Each HyperSpy signal object has certain attributes that contain the relevant data about the axes, data and metadata.\n",
    "\n",
    "To understand the HyperSpy datastructure, lets have a look at the dataset `cl2` (Gatan file).\n",
    "\n",
    "As **LumiSpy** is installed, the dataset is directly recognized as CL data and the `signal_type` set to `CLSpectrum`. (The fallback would be the more generic `Signal1D` if LumiSpy is not installed).\n",
    "\n",
    "The **signal class** provides certain specific routines, for example conversion to energy axis in the case of luminescence data.\n",
    "\n",
    "Our sample dataset has **two navigation dimensions** and **one signal (spectral) dimension**:"
   ]
  },
  {
   "cell_type": "code",
   "execution_count": null,
   "metadata": {
    "tags": []
   },
   "outputs": [],
   "source": [
    "cl2"
   ]
  },
  {
   "cell_type": "markdown",
   "metadata": {},
   "source": [
    "The information about the axes is stored in the `axes_manager`. Thus, we can get more details about the different axes, by calling the **axes manager**:"
   ]
  },
  {
   "cell_type": "code",
   "execution_count": null,
   "metadata": {
    "tags": []
   },
   "outputs": [],
   "source": [
    "cl2.axes_manager"
   ]
  },
  {
   "cell_type": "markdown",
   "metadata": {},
   "source": [
    "The **actual data** (signal intensity) is stored in a numpy array:"
   ]
  },
  {
   "cell_type": "code",
   "execution_count": null,
   "metadata": {
    "tags": []
   },
   "outputs": [],
   "source": [
    "cl2.data"
   ]
  },
  {
   "cell_type": "markdown",
   "metadata": {
    "tags": []
   },
   "source": [
    "## Metadata\n",
    "\n",
    "For most supported file formats, the metadata is automatically parsed into **HyperSpy's metadata tree**.\n",
    "It contains information about the measurement, but potentially also about post-processing:"
   ]
  },
  {
   "cell_type": "code",
   "execution_count": null,
   "metadata": {},
   "outputs": [],
   "source": [
    "cl2.metadata"
   ]
  },
  {
   "cell_type": "markdown",
   "metadata": {},
   "source": [
    "In a separate tree, the **complete metadata from the vendor format** is read in (which follows different conventions depending on the format):"
   ]
  },
  {
   "cell_type": "code",
   "execution_count": null,
   "metadata": {
    "tags": []
   },
   "outputs": [],
   "source": [
    "cl2.original_metadata"
   ]
  },
  {
   "cell_type": "markdown",
   "metadata": {},
   "source": [
    "## Plot / Explore\n",
    "\n",
    "We can easily plot and explore the hyperspectral data (drag the marker in the *navigation* window to change the displayed spectrum):\n",
    "\n",
    "*(In the following, we will use the preprocessed dataset `cl1`. The sample contains MethylammoniumLead Bromine (MAPbBr3) perovskite single crystals fabricated by Alice Dearle.)*"
   ]
  },
  {
   "cell_type": "code",
   "execution_count": null,
   "metadata": {
    "collapsed": false,
    "jupyter": {
     "outputs_hidden": false
    },
    "pycharm": {
     "name": "#%%\n"
    }
   },
   "outputs": [],
   "source": [
    "cl1.plot()"
   ]
  },
  {
   "cell_type": "markdown",
   "metadata": {},
   "source": [
    "Plot the **average CL spectrum** of the whole map:"
   ]
  },
  {
   "cell_type": "code",
   "execution_count": null,
   "metadata": {},
   "outputs": [],
   "source": [
    "cl1.mean().plot()"
   ]
  },
  {
   "cell_type": "markdown",
   "metadata": {},
   "source": [
    "## Indexing\n",
    "\n",
    "HyperSpy has a powerful numpy (Matlab) style indexing mechanism that distinguishes between navigation and signal axes:\n",
    "\n",
    "- `.inav[x1:x2,y1:y2]`\n",
    "- `.isig[s1:s2]`\n",
    "\n",
    "The index parameters can be either:\n",
    "- Integer: Index in the axis array\n",
    "- Float: Value in calibrated axis units\n",
    "\n",
    "For example, we can either plot a subset of the map in navigation space (selected using pixels as index):"
   ]
  },
  {
   "cell_type": "code",
   "execution_count": null,
   "metadata": {
    "tags": []
   },
   "outputs": [],
   "source": [
    "cl1.inav[2:23,0:20].plot()"
   ]
  },
  {
   "cell_type": "markdown",
   "metadata": {},
   "source": [
    "Or, we can plot the mean spectrum in a certain spectral range (selected using wavelength units):"
   ]
  },
  {
   "cell_type": "code",
   "execution_count": null,
   "metadata": {
    "tags": []
   },
   "outputs": [],
   "source": [
    "cl1.isig[440.:600.].mean().plot()"
   ]
  },
  {
   "cell_type": "markdown",
   "metadata": {},
   "source": [
    "### Chromatic imaging:\n",
    "\n",
    "Indexing can also be used for color-filtered (chromatic) imaging.\n",
    "\n",
    "First, lets plot the **panchromatic image**:\n",
    "\n",
    "*(the object is transposed, so that we plot the intensity over navigation instead of signal dimensions)*"
   ]
  },
  {
   "cell_type": "code",
   "execution_count": null,
   "metadata": {
    "pycharm": {
     "name": "#%%\n"
    }
   },
   "outputs": [],
   "source": [
    "cl1.T.mean().plot(cmap='viridis')"
   ]
  },
  {
   "cell_type": "markdown",
   "metadata": {},
   "source": [
    "Now, we can **plot the intensity in a selected spectral window** (color-filtered image) using indexing:"
   ]
  },
  {
   "cell_type": "code",
   "execution_count": null,
   "metadata": {
    "tags": []
   },
   "outputs": [],
   "source": [
    "cl1.isig[480.:550.].T.mean().plot(cmap='viridis')"
   ]
  },
  {
   "cell_type": "markdown",
   "metadata": {
    "pycharm": {
     "name": "#%% md\n"
    }
   },
   "source": [
    "Alternatively, we can interactively select a spectral window (color-filtered image) using regions of interest:"
   ]
  },
  {
   "cell_type": "code",
   "execution_count": null,
   "metadata": {
    "collapsed": false,
    "jupyter": {
     "outputs_hidden": false
    },
    "pycharm": {
     "name": "#%%\n"
    }
   },
   "outputs": [],
   "source": [
    "im = cl1.T\n",
    "im.plot()\n",
    "roi1 = hs.roi.SpanROI(left=455, right=485) #sets a digitalbandfilter\n",
    "im_roi1 = roi1.interactive(im, color=\"red\")\n",
    "im_roi1_mean = hs.interactive(im_roi1.mean,\n",
    "                          event=roi1.events.changed,\n",
    "                          recompute_out_event=None)\n",
    "im_roi1_mean.plot(cmap='viridis')"
   ]
  },
  {
   "cell_type": "markdown",
   "metadata": {},
   "source": [
    "## Correction of spectral defects\n",
    "\n",
    "Working on the unprocessed dataset `cl2`, we can introduce some basic functions for artefact correction:\n",
    "\n",
    "### Remove background (interactive)\n",
    "\n",
    "HyperSpy has an interactive tool for **background removal** that supports various functions, let's start by removing a **simple offset**:\n",
    "1. Select a region to be used to determine the background (lowest signal intensity): On the signal plot click, drag and release\n",
    "2. Select the background type *Offset* (can also be set using the argument `background_type=\"Offset\"`)\n",
    "3. You can still move the region or its boundaries with the mouse and inspect the different spectra using the navigator to make sure the region is right\n",
    "4. Press `Apply`"
   ]
  },
  {
   "cell_type": "code",
   "execution_count": null,
   "metadata": {
    "tags": []
   },
   "outputs": [],
   "source": [
    "cl2.plot()\n",
    "cl2.remove_background(background_type=\"Offset\")"
   ]
  },
  {
   "cell_type": "markdown",
   "metadata": {},
   "source": [
    "### Remove last pixels from the spectrum\n",
    "\n",
    "The signal beyond 800 nm goes to negative values, so lets remove the last three pixels from every spectrum (using signal indexation) and replace the original signal.\n",
    "\n",
    "*NOTE: Indexation operates on pixel in the signal dimension if the given number is an integer and on the calibrated (wavelength axis) if a float value is used as index.*\n",
    "\n",
    "*Caution: Only run this cell once, since each consecutive run will remove another three pixels. Alternatively, you can use a dedicated variable for the corrected signal.*"
   ]
  },
  {
   "cell_type": "code",
   "execution_count": null,
   "metadata": {
    "tags": []
   },
   "outputs": [],
   "source": [
    "cl2 = cl2.isig[:-3]"
   ]
  },
  {
   "cell_type": "code",
   "execution_count": null,
   "metadata": {},
   "outputs": [],
   "source": [
    "cl2.plot()"
   ]
  },
  {
   "cell_type": "markdown",
   "metadata": {},
   "source": [
    "### Remove spikes (interactive)\n",
    "\n",
    "There is also a tool for interactive removal of cosmic rays (pixels with sharp spikes), see `Help` for instructions.\n",
    "\n",
    "In brief:\n",
    "- Inspect the derivative histogram\n",
    "- Set a sensible threshold to catch the outliers in the histogram (8 is a sensible threshold for this dataset)\n",
    "- Iterate through `Find next` / `Remove spike` to continue for wrong identifications / remove identified spikes\n",
    "- `Close` when finished\n",
    "\n",
    "*NOTE: The interactive version does not work well with inline plotting. You can also do an automatic best guess spikes removal by passing `interactive=False`. This function, interactive or not, will overwrite the original signal.* "
   ]
  },
  {
   "cell_type": "code",
   "execution_count": null,
   "metadata": {
    "tags": []
   },
   "outputs": [],
   "source": [
    "cl2.spikes_removal_tool(interactive=False)"
   ]
  },
  {
   "cell_type": "markdown",
   "metadata": {
    "tags": []
   },
   "source": [
    "### Data smoothing\n",
    "\n",
    "The current dataset is quite noisy. As the peak is broad in comparison with the spectral resolution, one way to improve that is by **rebinning** the data along the signal axis:\n",
    "\n",
    "*Caution: Running this cell multiple times will rebin the signal further.*"
   ]
  },
  {
   "cell_type": "code",
   "execution_count": null,
   "metadata": {
    "tags": []
   },
   "outputs": [],
   "source": [
    "cl2 = cl2.rebin(scale=[1,1,2])\n",
    "cl2.plot()"
   ]
  },
  {
   "cell_type": "markdown",
   "metadata": {
    "tags": []
   },
   "source": [
    "Additionally, HyperSpy provides three different functions for **data smoothing**:\n",
    "\n",
    "- `smooth_lowess` (lowess smoothing)\n",
    "- `smooth_savitzky_golay` (Savitzky Golay filter)\n",
    "- `smooth_tv` (total variation data smoothing)\n",
    "\n",
    "These functions can be run interactively to choose the right parameters, but the parameters can also be passed to the function. You can play with the parameters and get a live preview, and hit `Apply` when you are happy with the smoothed curve.\n",
    "\n",
    "*As we want to use the non-smoothed data afterwards for fitting the data, we first make a copy of the dataset.*"
   ]
  },
  {
   "cell_type": "code",
   "execution_count": null,
   "metadata": {
    "tags": []
   },
   "outputs": [],
   "source": [
    "cl2a = cl2.deepcopy()\n",
    "cl2.plot()\n",
    "cl2.smooth_lowess(number_of_iterations = 2)"
   ]
  },
  {
   "cell_type": "code",
   "execution_count": null,
   "metadata": {
    "tags": []
   },
   "outputs": [],
   "source": [
    "cl2.plot()"
   ]
  },
  {
   "cell_type": "markdown",
   "metadata": {},
   "source": [
    "## Basic model fitting\n",
    "\n",
    "We will start by introducing very basic fitting functionality. A more elaborate example on [model fitting](#Model-fitting) will follow later in this notebook. For more details see also the [HyperSpy demos repository](https://github.com/hyperspy/hyperspy-demos).\n",
    "\n",
    "*Note that for simplicity, we do the fitting in the wavelength domain. In particular for luminescence spectroscopy data containing broad emission bands, it might make more sense to run these routines in the [energy domain](#Axes-types-/-Convert-to-energy-scale) after a [Jacobian transformation](#Jacobian-transformation) instead of converting the result. An example is included later in this notebook.*\n",
    "\n",
    "First, we need to **initialize the model** (using the unsmoothed data):"
   ]
  },
  {
   "cell_type": "code",
   "execution_count": null,
   "metadata": {},
   "outputs": [],
   "source": [
    "m = cl2a.create_model()"
   ]
  },
  {
   "cell_type": "markdown",
   "metadata": {},
   "source": [
    "A HyperSpy model can be composed of several **components** (functions).\n",
    "\n",
    "We can **check the components** of the model – should be empty, but for some types of signals like EDS and EELS, the model is automatically initialized with components:"
   ]
  },
  {
   "cell_type": "code",
   "execution_count": null,
   "metadata": {},
   "outputs": [],
   "source": [
    "m.components"
   ]
  },
  {
   "cell_type": "markdown",
   "metadata": {},
   "source": [
    "Thus, we need to **create some components** and **add them to the model**.\n",
    "\n",
    "As the emission peak in our dataset is rather asymmetric, we will use a single `SkewNormal` component. This function is characterized by a position `x0`, an area `A`, a width parameter `scale` and the skewness characterized by the `shape`. The only start value we need to set for a successful fit is a centre wavelength `x0=650 nm`.\n",
    "\n",
    "*Note that HyperSpy has a range of [built-in functions](https://hyperspy.org/hyperspy-doc/current/user_guide/model/model_components.html#pre-defined-model-components) covering most needs that can be added as components to a model. However, it also has an intuitive mechanism to [define custom functions](https://hyperspy.org/hyperspy-doc/current/user_guide/model/model_components.html#define-components-from-a-mathematical-expression).*"
   ]
  },
  {
   "cell_type": "code",
   "execution_count": null,
   "metadata": {},
   "outputs": [],
   "source": [
    "# Docstring of the SkewNormal component\n",
    "hs.model.components1D.SkewNormal?"
   ]
  },
  {
   "cell_type": "code",
   "execution_count": null,
   "metadata": {},
   "outputs": [],
   "source": [
    "g1 = hs.model.components1D.SkewNormal(x0=650)\n",
    "## Alternative way to set the start value of x0:\n",
    "# g1.x0.value = 650\n",
    "m.append(g1)\n",
    "## Alternatively add a list of components:\n",
    "# m.extend([g1])\n",
    "m.components"
   ]
  },
  {
   "cell_type": "markdown",
   "metadata": {},
   "source": [
    "To see the parameters of our components and their default values, we can **print all parameter values**:"
   ]
  },
  {
   "cell_type": "code",
   "execution_count": null,
   "metadata": {},
   "outputs": [],
   "source": [
    "m.print_current_values()"
   ]
  },
  {
   "cell_type": "markdown",
   "metadata": {},
   "source": [
    "To directly apply the fit to all the spectra in the map, we use the `multifit` command.\n",
    "\n",
    "In the current case of a single, well defined peak, we achieve a good fit without further adjusting the initial values of the parameters or setting any boundaries."
   ]
  },
  {
   "cell_type": "code",
   "execution_count": null,
   "metadata": {},
   "outputs": [],
   "source": [
    "m.multifit()"
   ]
  },
  {
   "cell_type": "markdown",
   "metadata": {},
   "source": [
    "We can now **plot the model** together with the data:"
   ]
  },
  {
   "cell_type": "code",
   "execution_count": null,
   "metadata": {},
   "outputs": [],
   "source": [
    "m.plot()"
   ]
  },
  {
   "cell_type": "markdown",
   "metadata": {},
   "source": [
    "The `SkewNormal` component represents the asymmetry of the peak very well, but does not fully reproduce the height of the main part of the peak.\n",
    "\n",
    "We can also print the parameter values at the current index:"
   ]
  },
  {
   "cell_type": "code",
   "execution_count": null,
   "metadata": {},
   "outputs": [],
   "source": [
    "m.print_current_values()"
   ]
  },
  {
   "cell_type": "markdown",
   "metadata": {},
   "source": [
    "## Peak identification / Centroid / Peak width\n",
    "\n",
    "In particular for asymmetric peaks, fitting might not always be the best way to determine peak characteristics (despite asymmetric functions, such as the skew normal distribution, being provided). Therefore, HyperSpy provides a number of additional routines.\n",
    "\n",
    "Peaks can be identified and characterized using the **peak finder** routine `find_peaks1D_ohaver` that is based on the downwards zero crossing of the first derivative.\n",
    "\n",
    "*For these routines, it is helpful to operate on the smoothed dataset. As we have some side-peaks, we operate on a subrange of the wavelength axis defined by `isig`.*"
   ]
  },
  {
   "cell_type": "code",
   "execution_count": null,
   "metadata": {
    "tags": []
   },
   "outputs": [],
   "source": [
    "peaks = cl2.isig[600.:].find_peaks1D_ohaver(maxpeakn=1)"
   ]
  },
  {
   "cell_type": "markdown",
   "metadata": {},
   "source": [
    "The function **returns a structured array** that contains `position`, `height` and `width` for every pixel (potentially each for multiple peaks)."
   ]
  },
  {
   "cell_type": "code",
   "execution_count": null,
   "metadata": {
    "tags": []
   },
   "outputs": [],
   "source": [
    "peaks[0,0]"
   ]
  },
  {
   "cell_type": "markdown",
   "metadata": {},
   "source": [
    "Especially for broad, asymmetric emission bands, the position of the maximum intensity might be of limited value. Therefore, **LumiSpy** provides an additional `centroid` function that determines the **centre of mass** of a peak.\n",
    "\n",
    "Required version: lumispy>=0.2.2\n",
    "\n",
    "*Note that, as with fitting, it might make more sense to run these routines in the [energy domain](#Axes-types-/-Convert-to-energy-scale) after a [Jacobian transformation](#Jacobian-transformation) than to convert the result - in particular for broad emission bands. For simplicity, we introduce it in the wavelength domain.*"
   ]
  },
  {
   "cell_type": "code",
   "execution_count": null,
   "metadata": {
    "tags": []
   },
   "outputs": [],
   "source": [
    "com = cl2.isig[600.:].centroid()"
   ]
  },
  {
   "cell_type": "markdown",
   "metadata": {},
   "source": [
    "The result is a new `signal` that we can plot as a colormap using the HyperSpy functionality:"
   ]
  },
  {
   "cell_type": "code",
   "execution_count": null,
   "metadata": {},
   "outputs": [],
   "source": [
    "com.plot(cmap='viridis')"
   ]
  },
  {
   "cell_type": "markdown",
   "metadata": {
    "tags": []
   },
   "source": [
    "You can also determine the **width of a peak** directly from the signal without fitting a model to the data. Again useful for asymmetric peaks. To plot the FWHM interval, we set `return_interval=True` (the returned list then contains three arrays: *width*, as well as *left position* and *right position* of the interval). \n",
    "\n",
    "The default is to determine the **FWHM**, i.e. a `factor=0.5`. This value can be set to any other fraction of the peak height."
   ]
  },
  {
   "cell_type": "code",
   "execution_count": null,
   "metadata": {
    "tags": []
   },
   "outputs": [],
   "source": [
    "width = cl2.isig[600.:].estimate_peak_width(return_interval=True)"
   ]
  },
  {
   "cell_type": "code",
   "execution_count": null,
   "metadata": {},
   "outputs": [],
   "source": [
    "width[0].plot(cmap='viridis')"
   ]
  },
  {
   "cell_type": "markdown",
   "metadata": {},
   "source": [
    "Now we can **add markers** for the *FWHM interval* and the *centre of mass* to the signal object and plot them on the spectra:"
   ]
  },
  {
   "cell_type": "code",
   "execution_count": null,
   "metadata": {},
   "outputs": [],
   "source": [
    "# Temporary fix for the HyperSpy 2.0 release, as the signals used to create markers need to be of `ragged` type\n",
    "def to_ragged(s):\n",
    "    s2 = hs.signals.BaseSignal(np.empty(s.T.axes_manager.navigation_shape[::-1], dtype=object), ragged=True)\n",
    "    for indices in np.ndindex(s2.data.shape):\n",
    "        s2.data[indices] = np.array([s.data[indices]])\n",
    "    return s2"
   ]
  },
  {
   "cell_type": "code",
   "execution_count": null,
   "metadata": {},
   "outputs": [],
   "source": [
    "mrk = hs.plot.markers.VerticalLines.from_signal(to_ragged(com), color='black', signal_axes=None)\n",
    "mrkl = hs.plot.markers.VerticalLines.from_signal(to_ragged(width[1]), color='grey', signal_axes=None)\n",
    "mrkr = hs.plot.markers.VerticalLines.from_signal(to_ragged(width[2]), color='grey', signal_axes=None)\n",
    "cl2.add_marker([mrk,mrkl,mrkr], permanent=True)\n",
    "cl2.plot()"
   ]
  },
  {
   "cell_type": "markdown",
   "metadata": {
    "pycharm": {
     "name": "#%% md\n"
    },
    "tags": []
   },
   "source": [
    "## Now try with your own data!\n"
   ]
  },
  {
   "cell_type": "code",
   "execution_count": null,
   "metadata": {},
   "outputs": [],
   "source": []
  }
 ],
 "metadata": {
  "kernelspec": {
   "display_name": "Python [conda env:base] *",
   "language": "python",
   "name": "conda-base-py"
  },
  "language_info": {
   "codemirror_mode": {
    "name": "ipython",
    "version": 3
   },
   "file_extension": ".py",
   "mimetype": "text/x-python",
   "name": "python",
   "nbconvert_exporter": "python",
   "pygments_lexer": "ipython3",
   "version": "3.11.9"
  }
 },
 "nbformat": 4,
 "nbformat_minor": 4
}
