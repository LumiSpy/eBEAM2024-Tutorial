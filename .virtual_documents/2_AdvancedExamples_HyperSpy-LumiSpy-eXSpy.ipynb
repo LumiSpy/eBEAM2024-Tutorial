





# Use '%matplotlib widget' in JupterLab and '%matplotlib notebook' in JupyterNotebook for interactive inline functionality (e.g. on binder)
# For pop-up window plots on your local computer, use '%matplotlib tk' or '%matplotlib qt' instead
%matplotlib widget

import hyperspy.api as hs
import lumispy as lum
import matplotlib.pyplot as plt
import numpy as np

# Plot multiple inline figures side-by-side horizontally 
hs.preferences.Plot.widget_plot_style = 'horizontal'





cl1 = hs.load("data/01_demo.hspy")
cl3 = hs.load("data/quantum-emitters_map.dm4")








x, y = np.loadtxt("data/La2NiO4_eels.txt", unpack=True)





axes = [
    # use values from first column to define non-uniform signal axis
    dict(axis=x, name="Energy", units="eV"),
    ]

s = hs.signals.Signal1D(y, axes=axes)





s.axes_manager.signal_axes[0].convert_to_uniform_axis()





s.metadata.set_item("General.title", "La2NiO4 EELS")
s.metadata.set_item("Signal.quantity", "Intensity (counts)")
s.metadata





s.plot()





cl1.axes_manager





cl1_eV = cl1.to_eV(inplace=False)





cl1_eV.axes_manager





cl1_eV.axes_manager[-1].axis





cl1_eV.plot()





# Create a model signal with linear intensity
axis = {'offset': 300, 'scale': 4, 'units': 'nm', 'size': 101, 'name': 'Wavelength'}
s1 = hs.signals.Signal1D(np.ones(101), axes=[axis])
s1.set_signal_type("Luminescence")
s2 = s1.to_eV(inplace=False)


# Some additional arrays to help with visualizing the spectral bins during plotting
x1 = np.arange(9)*50+300
x2 = lum.nm2eV(x1)
y2 = hs.signals.Signal1D(np.ones(9), axes=[{'offset': 300, 'scale': 50, 'size': 9,}])
y2.set_signal_type("Luminescence")
y2.to_eV()


# Plot comparative figures
fig1 = plt.figure(figsize=(10,4))
ax0 = plt.subplot(121)
plt.ylim(0,1.3)
plt.xlabel('Wavelength (nm)')
ax0.plot(s1.axes_manager[0].axis,s1.data,color='orange')
ax0.vlines(x1,0,1,color='orange')
ax0.fill_between(s1.axes_manager[0].axis,0,s1.data, facecolor='orange', alpha=0.3)
ax1 = plt.subplot(122)
plt.ylim(0,0.43)
plt.xlabel('Energy (eV)')
ax1.plot(s2.axes_manager[0].axis,s2.data,color='orange')
ax1.vlines(x2,0,y2.data[::-1],color='orange')
ax1.fill_between(s2.axes_manager[0].axis,0,s2.data, facecolor='orange', alpha=0.3)





m = cl1_eV.create_model()





m.components





bkg = hs.model.components1D.Offset()
g1 = hs.model.components1D.GaussianHF()
m.extend([g1, bkg])
m.components





m.print_current_values()





# g1.estimate_parameters(cl1_eV,2.3,2.5)
cl1_eV.axes_manager.indices = (7,7)
g1.centre.value = 2.4        # Gaussian centre
g1.fwhm.value = 0.1      # Gaussian width
g1.height.value = 5      # Gaussian height
bkg.offset.value = 0.1   # background offset





g1.centre.bmax = g1.centre.value + 0.2
g1.centre.bmin = g1.centre.value - 0.2
g1.fwhm.bmin = 0.01





m.fit(bounded=True)
m.assign_current_values_to_all()
m.plot()





m.print_current_values()





m.multifit(bounded=True, show_progressbar=True)
m.plot(plot_components=True)





m_centre = g1.centre.as_signal()
m_centre.plot(cmap='bwr_r', centre_colormap=False) # Otherwise, it would be centred around `0` and we would see little difference between pixels
m_intensity = g1.height.as_signal()
m_intensity.plot(cmap='viridis')





mask_treshold = m_intensity.data.mean()
mask = m_intensity.data > mask_treshold #Returns a boolean matrix mask
plt.figure()
plt.imshow(mask)





(m_centre * mask).plot(cmap='bwr_r', vmin=2.3, centre_colormap=False) 





m_intensity.plot()





line_roi = hs.roi.Line2DROI(4896, 3894, 6250, 4901, 10)





profile = line_roi(m_intensity)
profile.plot()





m_intensity.plot()
profile1 = line_roi.interactive(m_intensity, color='green')
m_centre.plot()
profile2 = line_roi.interactive(m_centre, color='green')





print(tuple(line_roi))





hs.plot.plot_spectra([profile1, profile2])





profile1.save('extracted-line-profile.msa', format='XY', overwrite=True)





cl1max = cl1.map(np.max, inplace=False)
cl1max.plot()





cl1.spikes_removal_tool(interactive=False)





cl1max = cl1.max(axis=-1)
cl1max.plot()





cl1max.T.plot(cmap='viridis')





cl3 = cl3.inav[10,8]


ma = cl3.create_model()
ga1 = hs.model.components1D.SkewNormal()
ga2 = hs.model.components1D.GaussianHF()
ma.extend((ga1,ga2))
ga1.x0.value=655
ga1.scale.value=50
ga1.shape.value=2
ga1.A.value=220
ga1.x0.bmin=635
ga1.x0.bmax=675
ga1.x0.bounded=True
ga2.centre.value=580
ga2.fwhm.value=180
ga2.height.value=20
ma.fit()
ma.plot()


def getPeaks(S2):
    S2=S2.rebin(new_shape=[334])
    S2.smooth_savitzky_golay(window_length=15,polynomial_order=2)
    peaks = S2.find_peaks1D_ohaver(amp_thresh=0.2*np.max(S2.data),maxpeakn=10)[0]
    return peaks


ng=10
S2 = cl3.deepcopy()
g = list()
for i in np.arange(ng):
    g.append(hs.model.components1D.GaussianHF())
ma.extend(g)
for i in np.arange(ng):
    g[i].active_is_multidimensional = True
# The following code would need to be in a loop to run for a whole spectral image
# m.axes_manager.indices = cl3.axes_manager.indices
peaks = getPeaks(S2.inav[cl3.axes_manager.indices])
for i in np.arange(np.size(peaks)):
    g[i].centre.value=peaks['position'][i]
    g[i].centre.bmin=peaks['position'][i]-3
    g[i].centre.bmax=peaks['position'][i]+3
    g[i].centre.bounded=True
    g[i].fwhm.value=5
    g[i].fwhm.bmax=10
    g[i].fwhm.bmin=1
    g[i].fwhm.bounded=True
    g[i].height.value=20
    g[i].height.bmin=1
    g[i].height.bounded=True
if np.size(peaks)<ng:
    for i in np.arange(np.size(peaks),ng):
        g[i].active = False
ma.fit(bounded=True)
ma.plot()






