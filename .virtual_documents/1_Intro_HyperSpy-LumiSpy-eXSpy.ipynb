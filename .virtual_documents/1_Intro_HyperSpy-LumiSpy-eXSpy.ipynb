





# Use '%matplotlib widget' in JupterLab and '%matplotlib notebook' in JupyterNotebook for interactive inline functionality (e.g. on binder)
# For pop-up window plots on your local computer, use '%matplotlib tk' or '%matplotlib qt' instead
%matplotlib widget

import hyperspy.api as hs
import numpy as np

# Plot multiple inline figures side-by-side horizontally 
hs.preferences.Plot.widget_plot_style = 'horizontal'





hs.print_known_signal_types()





cl1 = hs.load("data/01_demo.hspy")
cl2 = hs.load("data/asymmetric-peak_map.dm4")





hs.load?





cl2





cl2.axes_manager





cl2.data





cl2.metadata





cl2.original_metadata





cl1.plot()





cl1.mean().plot()





cl1.inav[2:23,0:20].plot()





cl1.isig[440.:600.].mean().plot()





cl1.T.mean().plot(cmap='viridis')





cl1.isig[480.:550.].T.mean().plot(cmap='viridis')





im = cl1.T
im.plot()
roi1 = hs.roi.SpanROI(left=455, right=485) #sets a digitalbandfilter
im_roi1 = roi1.interactive(im, color="red")
im_roi1_mean = hs.interactive(im_roi1.mean,
                          event=roi1.events.changed,
                          recompute_out_event=None)
im_roi1_mean.plot(cmap='viridis')





cl2.plot()
cl2.remove_background(background_type="Offset")





cl2 = cl2.isig[:-3]


cl2.plot()





cl2.spikes_removal_tool(interactive=False)





cl2 = cl2.rebin(scale=[1,1,2])
cl2.plot()





cl2a = cl2.deepcopy()
cl2.plot()
cl2.smooth_lowess(number_of_iterations = 2)


cl2.plot()





m = cl2a.create_model()





m.components





# Docstring of the SkewNormal component
hs.model.components1D.SkewNormal?


g1 = hs.model.components1D.SkewNormal(x0=650)
## Alternative way to set the start value of x0:
# g1.x0.value = 650
m.append(g1)
## Alternatively add a list of components:
# m.extend([g1])
m.components





m.print_current_values()





m.multifit()





m.plot()





m.print_current_values()





peaks = cl2.isig[600.:].find_peaks1D_ohaver(maxpeakn=1)





peaks[0,0]





com = cl2.isig[600.:].centroid()





com.plot(cmap='viridis')





width = cl2.isig[600.:].estimate_peak_width(return_interval=True)


width[0].plot(cmap='viridis')





# Temporary fix for the HyperSpy 2.0 release, as the signals used to create markers need to be of `ragged` type
def to_ragged(s):
    s2 = hs.signals.BaseSignal(np.empty(s.T.axes_manager.navigation_shape[::-1], dtype=object), ragged=True)
    for indices in np.ndindex(s2.data.shape):
        s2.data[indices] = np.array([s.data[indices]])
    return s2


mrk = hs.plot.markers.VerticalLines.from_signal(to_ragged(com), color='black', signal_axes=None)
mrkl = hs.plot.markers.VerticalLines.from_signal(to_ragged(width[1]), color='grey', signal_axes=None)
mrkr = hs.plot.markers.VerticalLines.from_signal(to_ragged(width[2]), color='grey', signal_axes=None)
cl2.add_marker([mrk,mrkl,mrkr], permanent=True)
cl2.plot()






